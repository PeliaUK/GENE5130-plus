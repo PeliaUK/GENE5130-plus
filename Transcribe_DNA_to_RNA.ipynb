{
  "nbformat": 4,
  "nbformat_minor": 0,
  "metadata": {
    "colab": {
      "provenance": [],
      "toc_visible": true,
      "include_colab_link": true
    },
    "kernelspec": {
      "name": "python3",
      "display_name": "Python 3"
    },
    "language_info": {
      "name": "python"
    }
  },
  "cells": [
    {
      "cell_type": "markdown",
      "metadata": {
        "id": "view-in-github",
        "colab_type": "text"
      },
      "source": [
        "<a href=\"https://colab.research.google.com/github/PeliaUK/GENE5130-plus/blob/main/Transcribe_DNA_to_RNA.ipynb\" target=\"_parent\"><img src=\"https://colab.research.google.com/assets/colab-badge.svg\" alt=\"Open In Colab\"/></a>"
      ]
    },
    {
      "cell_type": "markdown",
      "source": [
        "#**RNA**"
      ],
      "metadata": {
        "id": "70tqNMJL9tsN"
      }
    },
    {
      "cell_type": "markdown",
      "source": [
        "##Transcribing DNA into RNA"
      ],
      "metadata": {
        "id": "s1KLYSF9a5YG"
      }
    },
    {
      "cell_type": "markdown",
      "source": [
        "###The Second Nucleic Acidclick to expand\n",
        "Problem\n",
        "An RNA string is a string formed from the alphabet containing 'A', 'C', 'G', and 'U'.\n",
        "\n",
        "Given a DNA string t\n",
        " corresponding to a coding strand, its transcribed RNA string u\n",
        " is formed by replacing all occurrences of 'T' in t\n",
        " with 'U' in u\n",
        ".\n",
        "\n",
        "Given: A DNA string t\n",
        " having length at most 1000 nt.\n",
        "\n",
        "Return: The transcribed RNA string of t\n",
        ".\n",
        "\n",
        "Sample Dataset\n",
        "GATGGAACTTGACTACGTAAATT\n",
        "Sample Output\n",
        "GAUGGAACUUGACUACGUAAAUU"
      ],
      "metadata": {
        "id": "0lC2WiWMaumt"
      }
    },
    {
      "cell_type": "code",
      "source": [
        "#Dataset\n",
        "dna_string = \"CAACCAAAGCATAGGATGCGAGGGACCGGTAGAGCGACGCTGTTTCCACGTTAGGTCGGTACAGCCACTTAGTTCCGGCCGTGTTGATAAATTCCACAGCACGTCCGTGTCCTCCAGCTACCAGATCCTTGATTTTGAAGGTAGGCCAGCGCACATCGTAATATACAGTGTCGGGCAATCTAACACCTTTTACACGTAACCTACACGTCGGCGCTCCGCTTGACTTGAACCCGAGTAGTAACGTTTTCTTAACAAGAGGGTCTGCAAATGGCAGCGCTATACTATTAGGCGGATCTGTTTAATCTCCCTTGGGCTCTCATACGAGTAGTCTCATGAGTCTCTAAAGTCGTCGCGTAAACACGTTGCACACTCGCTTCCGTCATGCTTCGTGAGGGACAACGGTGCCTGCTCGGCGCGCTATATGGTCGAAATATTCGAGGAAGACAGGGCAGGGGGGCGATATGCAGCAAACTAACACGCTCGTGACACCGCTTCGTACGCAATTGATTCGTCGCATTCAGTTACTCCGCGCGACTTCACATTAGGCCGGGGGGAATTATTGTAAGTGCGGTCTGGAACCCCGCTGCCTCGATACGCCCAAATAGAAACTCACGCGGGATTCTCGATGGGTTAAAGAAACGCATCCCCAACTCGTTAACGCCCACTCGGAATCTCGGCTCGAGGAGTCGCAAGAGTATGTTTACCTCCTATAGAGCCGCTGCAGTTTGGAGCTTCGCCTTGTATTTGTCCAACGCGAAAAAATGTCATCACGATGGCTGCCCTTGATCTAGAATATGGACTGATCCTCTAGATTACCCAGCGCCGTGAAATCAAGACTGCTGTTAACAGTAGACCGTAACATCTAGTAGCAAACCGCTAACGCCGTGCATCCATTCGGCAAGGGACGAGACTTATATTAAGAGTACAGGAGACAAATAAACCTCTGAACATGTCATGTTAT\"\n",
        "def transcribe_dna_to_rna(dna_string):\n",
        "    # Replace 'T' with 'U' to transcribe DNA to RNA\n",
        "    Transcribe_DNA_to_RNA  = dna_string.replace('T', 'U')\n",
        "    return Transcribe_DNA_to_RNA\n",
        "Transcribe_DNA_to_RNA = transcribe_dna_to_rna(dna_string)\n",
        "print(Transcribe_DNA_to_RNA )"
      ],
      "metadata": {
        "colab": {
          "base_uri": "https://localhost:8080/"
        },
        "id": "yJUFJ3BIPSfN",
        "outputId": "d341334d-42af-4270-a80d-3b003e60ebfb"
      },
      "execution_count": 1,
      "outputs": [
        {
          "output_type": "stream",
          "name": "stdout",
          "text": [
            "CAACCAAAGCAUAGGAUGCGAGGGACCGGUAGAGCGACGCUGUUUCCACGUUAGGUCGGUACAGCCACUUAGUUCCGGCCGUGUUGAUAAAUUCCACAGCACGUCCGUGUCCUCCAGCUACCAGAUCCUUGAUUUUGAAGGUAGGCCAGCGCACAUCGUAAUAUACAGUGUCGGGCAAUCUAACACCUUUUACACGUAACCUACACGUCGGCGCUCCGCUUGACUUGAACCCGAGUAGUAACGUUUUCUUAACAAGAGGGUCUGCAAAUGGCAGCGCUAUACUAUUAGGCGGAUCUGUUUAAUCUCCCUUGGGCUCUCAUACGAGUAGUCUCAUGAGUCUCUAAAGUCGUCGCGUAAACACGUUGCACACUCGCUUCCGUCAUGCUUCGUGAGGGACAACGGUGCCUGCUCGGCGCGCUAUAUGGUCGAAAUAUUCGAGGAAGACAGGGCAGGGGGGCGAUAUGCAGCAAACUAACACGCUCGUGACACCGCUUCGUACGCAAUUGAUUCGUCGCAUUCAGUUACUCCGCGCGACUUCACAUUAGGCCGGGGGGAAUUAUUGUAAGUGCGGUCUGGAACCCCGCUGCCUCGAUACGCCCAAAUAGAAACUCACGCGGGAUUCUCGAUGGGUUAAAGAAACGCAUCCCCAACUCGUUAACGCCCACUCGGAAUCUCGGCUCGAGGAGUCGCAAGAGUAUGUUUACCUCCUAUAGAGCCGCUGCAGUUUGGAGCUUCGCCUUGUAUUUGUCCAACGCGAAAAAAUGUCAUCACGAUGGCUGCCCUUGAUCUAGAAUAUGGACUGAUCCUCUAGAUUACCCAGCGCCGUGAAAUCAAGACUGCUGUUAACAGUAGACCGUAACAUCUAGUAGCAAACCGCUAACGCCGUGCAUCCAUUCGGCAAGGGACGAGACUUAUAUUAAGAGUACAGGAGACAAAUAAACCUCUGAACAUGUCAUGUUAU\n"
          ]
        }
      ]
    }
  ]
}