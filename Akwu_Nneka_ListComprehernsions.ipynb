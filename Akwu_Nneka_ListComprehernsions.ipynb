{
  "nbformat": 4,
  "nbformat_minor": 0,
  "metadata": {
    "colab": {
      "provenance": [],
      "include_colab_link": true
    },
    "kernelspec": {
      "name": "python3",
      "display_name": "Python 3"
    },
    "language_info": {
      "name": "python"
    }
  },
  "cells": [
    {
      "cell_type": "markdown",
      "metadata": {
        "id": "view-in-github",
        "colab_type": "text"
      },
      "source": [
        "<a href=\"https://colab.research.google.com/github/PeliaUK/GENE5130-plus/blob/main/Akwu_Nneka_ListComprehernsions.ipynb\" target=\"_parent\"><img src=\"https://colab.research.google.com/assets/colab-badge.svg\" alt=\"Open In Colab\"/></a>"
      ]
    },
    {
      "cell_type": "markdown",
      "source": [
        "#### List Comprehensions:\n",
        "This series of excercises will help us develop a good intuition for what list comprehensions can do for us.\n",
        "\n",
        "`newlist = [expression for item in iterable if condition == True]`\n",
        "\n"
      ],
      "metadata": {
        "id": "GyDhfKYJbpZC"
      }
    },
    {
      "cell_type": "markdown",
      "source": [
        "1.- Basic transformation, convert this for loop into a list comprehension."
      ],
      "metadata": {
        "id": "15rArRNRcGMD"
      }
    },
    {
      "cell_type": "code",
      "execution_count": null,
      "metadata": {
        "colab": {
          "base_uri": "https://localhost:8080/"
        },
        "id": "lxUf88mAbfNr",
        "outputId": "dc84b9e8-1e83-4aed-b6cd-d3bd2b5d65f4"
      },
      "outputs": [
        {
          "output_type": "stream",
          "name": "stdout",
          "text": [
            "[1, 4, 9, 16, 25]\n"
          ]
        }
      ],
      "source": [
        "numbers = [1, 2, 3, 4, 5]\n",
        "squared_numbers = []\n",
        "\n",
        "for num in numbers:\n",
        "    squared_numbers.append(num ** 2)\n",
        "\n",
        "print(squared_numbers)\n"
      ]
    },
    {
      "cell_type": "code",
      "source": [
        "### Write your code here"
      ],
      "metadata": {
        "colab": {
          "base_uri": "https://localhost:8080/"
        },
        "id": "LsVSuHowcUGI",
        "outputId": "6b919928-3de0-47d2-efb6-28acde1e5028"
      },
      "execution_count": null,
      "outputs": [
        {
          "output_type": "stream",
          "name": "stdout",
          "text": [
            "[1, 4, 9, 16, 25]\n"
          ]
        }
      ]
    },
    {
      "cell_type": "markdown",
      "source": [
        "2.- Part 2: Filtering with List Comprehensions\n",
        "\n",
        "Now, modify the code so that only even numbers are squared and included in the new list."
      ],
      "metadata": {
        "id": "a7IQTIYgc6Yh"
      }
    },
    {
      "cell_type": "code",
      "source": [
        "numbers = [1, 2, 3, 4, 5, 6, 7, 8, 9, 10]\n",
        "even_squared = []\n",
        "\n",
        "for num in numbers:\n",
        "    if num % 2 == 0:\n",
        "        even_squared.append(num ** 2)\n",
        "\n",
        "print(even_squared)\n"
      ],
      "metadata": {
        "colab": {
          "base_uri": "https://localhost:8080/"
        },
        "id": "h_RquUSLc49L",
        "outputId": "ea618bea-b5b0-41f2-8191-e6f8b881a19a"
      },
      "execution_count": null,
      "outputs": [
        {
          "output_type": "stream",
          "name": "stdout",
          "text": [
            "[4, 16, 36, 64, 100]\n"
          ]
        }
      ]
    },
    {
      "cell_type": "code",
      "source": [
        "### write your code here\n"
      ],
      "metadata": {
        "colab": {
          "base_uri": "https://localhost:8080/"
        },
        "id": "KkQYoblEdDLx",
        "outputId": "f81f673c-d7ba-42f4-cf64-455bf57dc2f6"
      },
      "execution_count": null,
      "outputs": [
        {
          "output_type": "stream",
          "name": "stdout",
          "text": [
            "[4, 16, 36, 64, 100]\n"
          ]
        }
      ]
    },
    {
      "cell_type": "markdown",
      "source": [
        "### Protein Recoding: A Dimensionality Challenge\n",
        "**Real-world scenario:**\n",
        "You have a dataset of protein sequences, and you want to build a predictive model to classify whether a protein can bind DNA (e.g., transcription factors) or cleave DNA (e.g., nucleases).\n",
        "\n",
        "A standard deep learning approach often uses one-hot encoding, where each amino acid is represented by a 20-dimensional vector.\n",
        "For a sequence of 200 amino acids, this results in a `(200, 20)` matrix.\n",
        "If you have 500 sequences, the input tensor size becomes `(500, 200, 20)`.\n",
        "\n",
        "However, this large tensor takes up memory and computational resources.\n",
        "\n",
        "Can you think of a way to reduce the size of this representation?\n",
        "\n",
        "\n",
        "\n"
      ],
      "metadata": {
        "id": "NjTOJUBjdmyh"
      }
    },
    {
      "cell_type": "markdown",
      "source": [
        "HINTS: Dictionary or `in`"
      ],
      "metadata": {
        "id": "lXtRR9uKhNrG"
      }
    },
    {
      "cell_type": "code",
      "source": [
        "protein_one = \"MKTLLIALAVVAGAAG\"\n",
        "\n",
        "protein_sequences = [\n",
        "    \"MKTLLIALAVVAGAAGG\",\n",
        "    \"RNDGQLMVITF\",\n",
        "    \"SSTTNNQCAA\"\n",
        "]"
      ],
      "metadata": {
        "id": "5xQMxlT3hJNj"
      },
      "execution_count": null,
      "outputs": []
    }
  ]
}