{
  "nbformat": 4,
  "nbformat_minor": 0,
  "metadata": {
    "colab": {
      "provenance": [],
      "toc_visible": true,
      "include_colab_link": true
    },
    "kernelspec": {
      "name": "python3",
      "display_name": "Python 3"
    },
    "language_info": {
      "name": "python"
    }
  },
  "cells": [
    {
      "cell_type": "markdown",
      "metadata": {
        "id": "view-in-github",
        "colab_type": "text"
      },
      "source": [
        "<a href=\"https://colab.research.google.com/github/PeliaUK/GENE5130-plus/blob/main/Developer__Akwu_Nneka_DNA_to_RNA.ipynb\" target=\"_parent\"><img src=\"https://colab.research.google.com/assets/colab-badge.svg\" alt=\"Open In Colab\"/></a>"
      ]
    },
    {
      "cell_type": "markdown",
      "source": [
        "#**RNA**"
      ],
      "metadata": {
        "id": "70tqNMJL9tsN"
      }
    },
    {
      "cell_type": "markdown",
      "source": [
        "##Transcribing DNA into RNA"
      ],
      "metadata": {
        "id": "s1KLYSF9a5YG"
      }
    },
    {
      "cell_type": "markdown",
      "source": [
        "###The Second Nucleic Acidclick to expand\n",
        "Problem\n",
        "An RNA string is a string formed from the alphabet containing 'A', 'C', 'G', and 'U'.\n",
        "\n",
        "Given a DNA string t\n",
        " corresponding to a coding strand, its transcribed RNA string u\n",
        " is formed by replacing all occurrences of 'T' in t\n",
        " with 'U' in u\n",
        ".\n",
        "\n",
        "Given: A DNA string t\n",
        " having length at most 1000 nt.\n",
        "\n",
        "Return: The transcribed RNA string of t\n",
        ".\n",
        "\n",
        "Sample Dataset\n",
        "GATGGAACTTGACTACGTAAATT\n",
        "Sample Output\n",
        "GAUGGAACUUGACUACGUAAAUU"
      ],
      "metadata": {
        "id": "0lC2WiWMaumt"
      }
    },
    {
      "cell_type": "code",
      "source": [
        "#Dataset\n",
        "dna_string = \"CAACCAAAGCATAGGATGCGAGGGACCGGTAGAGCGACGCTGTTTCCACGTTAGGTCGGTACAGCCACTTAGTTCCGGCCGTGTTGATAAATTCCACAGCACGTCCGTGTCCTCCAGCTACCAGATCCTTGATTTTGAAGGTAGGCCAGCGCACATCGTAATATACAGTGTCGGGCAATCTAACACCTTTTACACGTAACCTACACGTCGGCGCTCCGCTTGACTTGAACCCGAGTAGTAACGTTTTCTTAACAAGAGGGTCTGCAAATGGCAGCGCTATACTATTAGGCGGATCTGTTTAATCTCCCTTGGGCTCTCATACGAGTAGTCTCATGAGTCTCTAAAGTCGTCGCGTAAACACGTTGCACACTCGCTTCCGTCATGCTTCGTGAGGGACAACGGTGCCTGCTCGGCGCGCTATATGGTCGAAATATTCGAGGAAGACAGGGCAGGGGGGCGATATGCAGCAAACTAACACGCTCGTGACACCGCTTCGTACGCAATTGATTCGTCGCATTCAGTTACTCCGCGCGACTTCACATTAGGCCGGGGGGAATTATTGTAAGTGCGGTCTGGAACCCCGCTGCCTCGATACGCCCAAATAGAAACTCACGCGGGATTCTCGATGGGTTAAAGAAACGCATCCCCAACTCGTTAACGCCCACTCGGAATCTCGGCTCGAGGAGTCGCAAGAGTATGTTTACCTCCTATAGAGCCGCTGCAGTTTGGAGCTTCGCCTTGTATTTGTCCAACGCGAAAAAATGTCATCACGATGGCTGCCCTTGATCTAGAATATGGACTGATCCTCTAGATTACCCAGCGCCGTGAAATCAAGACTGCTGTTAACAGTAGACCGTAACATCTAGTAGCAAACCGCTAACGCCGTGCATCCATTCGGCAAGGGACGAGACTTATATTAAGAGTACAGGAGACAAATAAACCTCTGAACATGTCATGTTAT\"\n",
        "def transcribe_dna_to_rna(dna_string):\n",
        "    # Replace 'T' with 'U' to transcribe DNA to RNA\n",
        "    rna_string = dna_string.replace('T', 'U')\n",
        "    return rna_string\n",
        "rna_string = transcribe_dna_to_rna(dna_string)\n",
        "print(rna_string)"
      ],
      "metadata": {
        "colab": {
          "base_uri": "https://localhost:8080/"
        },
        "id": "yJUFJ3BIPSfN",
        "outputId": "bff167f5-3084-4e8b-ca8a-5390cfe8bef5"
      },
      "execution_count": null,
      "outputs": [
        {
          "output_type": "stream",
          "name": "stdout",
          "text": [
            "CAACCAAAGCAUAGGAUGCGAGGGACCGGUAGAGCGACGCUGUUUCCACGUUAGGUCGGUACAGCCACUUAGUUCCGGCCGUGUUGAUAAAUUCCACAGCACGUCCGUGUCCUCCAGCUACCAGAUCCUUGAUUUUGAAGGUAGGCCAGCGCACAUCGUAAUAUACAGUGUCGGGCAAUCUAACACCUUUUACACGUAACCUACACGUCGGCGCUCCGCUUGACUUGAACCCGAGUAGUAACGUUUUCUUAACAAGAGGGUCUGCAAAUGGCAGCGCUAUACUAUUAGGCGGAUCUGUUUAAUCUCCCUUGGGCUCUCAUACGAGUAGUCUCAUGAGUCUCUAAAGUCGUCGCGUAAACACGUUGCACACUCGCUUCCGUCAUGCUUCGUGAGGGACAACGGUGCCUGCUCGGCGCGCUAUAUGGUCGAAAUAUUCGAGGAAGACAGGGCAGGGGGGCGAUAUGCAGCAAACUAACACGCUCGUGACACCGCUUCGUACGCAAUUGAUUCGUCGCAUUCAGUUACUCCGCGCGACUUCACAUUAGGCCGGGGGGAAUUAUUGUAAGUGCGGUCUGGAACCCCGCUGCCUCGAUACGCCCAAAUAGAAACUCACGCGGGAUUCUCGAUGGGUUAAAGAAACGCAUCCCCAACUCGUUAACGCCCACUCGGAAUCUCGGCUCGAGGAGUCGCAAGAGUAUGUUUACCUCCUAUAGAGCCGCUGCAGUUUGGAGCUUCGCCUUGUAUUUGUCCAACGCGAAAAAAUGUCAUCACGAUGGCUGCCCUUGAUCUAGAAUAUGGACUGAUCCUCUAGAUUACCCAGCGCCGUGAAAUCAAGACUGCUGUUAACAGUAGACCGUAACAUCUAGUAGCAAACCGCUAACGCCGUGCAUCCAUUCGGCAAGGGACGAGACUUAUAUUAAGAGUACAGGAGACAAAUAAACCUCUGAACAUGUCAUGUUAU\n"
          ]
        }
      ]
    },
    {
      "cell_type": "code",
      "source": [
        "# Dataset\n",
        "protein_string = \"VMWNWSYYYEQVRWIHLFFKPRQSRSEIKVLIENGICGPTATSWNVDWKGESQFFYMMWVVQPGQALHSYAWFIDCSYWMVQSYIVCYFPFEKATEECTYKDWPEEFCMGTTALFINVAFGLLRLFCERDLSIAQPGCQNPCKQQPDELVPRDNLLSGLRNQSVECETNWWIYPNTRSDNQIENTAGIKAIWRFYTAWNCKMVRYRLYIWIENWGQTGPGSETRGLCYFFYYETIKAWPIAAREHRIWFMTSFQIHSICNMPVQCMYALHVIWIHAAAHEVAAHPFHTTIYNDEYWELPRFNHGFGTGKHCSCPMVVRAGANQIAFLSQNKGNNLRKAIMNINMCRKPWFCKIRCKFDGEQWWCLHQHICNTFTSKNVDNCMDRNCLLEDKMAPHACQFLGEIGPAAHLLHEMLGAIDLRAFNTILGTDSKSICQFSPQTIQCSNCYDLFGGWVPMGRVCLVEYSTHKVKIKMLWQQDVYWSWRFDKRMLEHDDMSVRPLLCEVISCQLPLMERDRDILITGKSDPVVQFGITEGRGSRKEVYQCQTQFQTFAINLANTNMCHPEICIGYQYSCKHIYCFVPDGSTWTWAQRDDYSFGTWVRGPTWVPAMMIEYETCYRWKCDPWKRPLDNEHCKQFWTLHAQHAPHKWIPKWAMGRPTVVLYFITKHCWLKGMNRWSRRAHDRGFATNNIKEFHCPQGDQAKMCDPFFMWNSTIPVFSMNKSYTGEFPKTYILKNGRWMYEYDNTYPMNFNSMMNTDMDYEYRCKKVCNDHMLSDVDGTRGPELCPNYWCAWRYHGEDVTKYMFAYYATEMHYIRYCVCSPAESMYPPGLFFKCCHFDAEVDADWRSTCKMILQVPKAKYNFFLRAFDKQCDMAICTIVAHRCTSNKLERCQNYTFKMGNGWDRADSGCQKCFFYLGMRCPDNTMGSLIYM\"\n",
        "def protein_mass(protein: str) -> float:\n",
        "    monoisotopic_mass_table = {\n",
        "        'A': 71.03711, 'C': 103.00919, 'D': 115.02694, 'E': 129.04259,\n",
        "        'F': 147.06841, 'G': 57.02146, 'H': 137.05891, 'I': 113.08406,\n",
        "        'K': 128.09496, 'L': 113.08406, 'M': 131.04049, 'N': 114.04293,\n",
        "        'P': 97.05276, 'Q': 128.05858, 'R': 156.10111, 'S': 87.03203,\n",
        "        'T': 101.04768, 'V': 99.06841, 'W': 186.07931, 'Y': 163.06333\n",
        "    }\n",
        "\n",
        "    return sum(monoisotopic_mass_table[aa] for aa in protein)\n",
        "\n",
        "# To compute and print the result\n",
        "print(round(protein_mass(protein_string), 3))\n"
      ],
      "metadata": {
        "colab": {
          "base_uri": "https://localhost:8080/"
        },
        "id": "hRtr6W9eCmVX",
        "outputId": "75b6ac99-8b46-4c9f-b2cf-39480291c91b"
      },
      "execution_count": null,
      "outputs": [
        {
          "output_type": "stream",
          "name": "stdout",
          "text": [
            "110151.78\n"
          ]
        }
      ]
    }
  ]
}